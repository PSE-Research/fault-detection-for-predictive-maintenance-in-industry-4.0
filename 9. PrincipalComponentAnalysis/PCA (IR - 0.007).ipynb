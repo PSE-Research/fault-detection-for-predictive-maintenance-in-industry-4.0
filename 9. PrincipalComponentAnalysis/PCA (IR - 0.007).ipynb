{
 "cells": [
  {
   "metadata": {
    "ExecuteTime": {
     "end_time": "2024-09-20T11:56:39.876969Z",
     "start_time": "2024-09-20T11:56:39.873969Z"
    }
   },
   "cell_type": "code",
   "source": [
    "#importing packages\n",
    "import pandas as pd\n",
    "import numpy as np"
   ],
   "outputs": [],
   "execution_count": 52
  },
  {
   "cell_type": "code",
   "metadata": {
    "ExecuteTime": {
     "end_time": "2024-09-20T11:56:39.965765Z",
     "start_time": "2024-09-20T11:56:39.922459Z"
    }
   },
   "source": [
    "# Importing the dataset\n",
    "X = pd.read_csv('../Datasets/NB.csv')\n",
    "X['Fault'] = 0\n",
    "\n",
    "y = pd.read_csv('../Datasets/IR - 7.csv')\n",
    "y['Fault'] = 1"
   ],
   "outputs": [],
   "execution_count": 53
  },
  {
   "cell_type": "code",
   "metadata": {
    "ExecuteTime": {
     "end_time": "2024-09-20T11:56:39.980203Z",
     "start_time": "2024-09-20T11:56:39.968855Z"
    }
   },
   "source": [
    "from sklearn.model_selection import train_test_split\n",
    "X_train, X_test = train_test_split(X, test_size = 0.2, random_state = 0)\n",
    "\n",
    "y_train, y_test = train_test_split(y, test_size = 0.2, random_state = 0)"
   ],
   "outputs": [],
   "execution_count": 54
  },
  {
   "cell_type": "code",
   "metadata": {
    "ExecuteTime": {
     "end_time": "2024-09-20T11:56:40.008172Z",
     "start_time": "2024-09-20T11:56:40.002221Z"
    }
   },
   "source": [
    "train = pd.concat([X_train, y_train], ignore_index=True)\n",
    "train"
   ],
   "outputs": [
    {
     "data": {
      "text/plain": [
       "              DE        FE  Fault\n",
       "0       0.062585  0.041091      0\n",
       "1      -0.075102 -0.013765      0\n",
       "2      -0.048190 -0.001233      0\n",
       "3       0.069260  0.028558      0\n",
       "4       0.040054  0.065335      0\n",
       "...          ...       ...    ...\n",
       "193843  0.110131 -0.312085      1\n",
       "193844 -0.909962 -0.030202      1\n",
       "193845  0.676380  0.007396      1\n",
       "193846  0.011208  0.209975      1\n",
       "193847  0.112405  0.265447      1\n",
       "\n",
       "[193848 rows x 3 columns]"
      ],
      "text/html": [
       "<div>\n",
       "<style scoped>\n",
       "    .dataframe tbody tr th:only-of-type {\n",
       "        vertical-align: middle;\n",
       "    }\n",
       "\n",
       "    .dataframe tbody tr th {\n",
       "        vertical-align: top;\n",
       "    }\n",
       "\n",
       "    .dataframe thead th {\n",
       "        text-align: right;\n",
       "    }\n",
       "</style>\n",
       "<table border=\"1\" class=\"dataframe\">\n",
       "  <thead>\n",
       "    <tr style=\"text-align: right;\">\n",
       "      <th></th>\n",
       "      <th>DE</th>\n",
       "      <th>FE</th>\n",
       "      <th>Fault</th>\n",
       "    </tr>\n",
       "  </thead>\n",
       "  <tbody>\n",
       "    <tr>\n",
       "      <th>0</th>\n",
       "      <td>0.062585</td>\n",
       "      <td>0.041091</td>\n",
       "      <td>0</td>\n",
       "    </tr>\n",
       "    <tr>\n",
       "      <th>1</th>\n",
       "      <td>-0.075102</td>\n",
       "      <td>-0.013765</td>\n",
       "      <td>0</td>\n",
       "    </tr>\n",
       "    <tr>\n",
       "      <th>2</th>\n",
       "      <td>-0.048190</td>\n",
       "      <td>-0.001233</td>\n",
       "      <td>0</td>\n",
       "    </tr>\n",
       "    <tr>\n",
       "      <th>3</th>\n",
       "      <td>0.069260</td>\n",
       "      <td>0.028558</td>\n",
       "      <td>0</td>\n",
       "    </tr>\n",
       "    <tr>\n",
       "      <th>4</th>\n",
       "      <td>0.040054</td>\n",
       "      <td>0.065335</td>\n",
       "      <td>0</td>\n",
       "    </tr>\n",
       "    <tr>\n",
       "      <th>...</th>\n",
       "      <td>...</td>\n",
       "      <td>...</td>\n",
       "      <td>...</td>\n",
       "    </tr>\n",
       "    <tr>\n",
       "      <th>193843</th>\n",
       "      <td>0.110131</td>\n",
       "      <td>-0.312085</td>\n",
       "      <td>1</td>\n",
       "    </tr>\n",
       "    <tr>\n",
       "      <th>193844</th>\n",
       "      <td>-0.909962</td>\n",
       "      <td>-0.030202</td>\n",
       "      <td>1</td>\n",
       "    </tr>\n",
       "    <tr>\n",
       "      <th>193845</th>\n",
       "      <td>0.676380</td>\n",
       "      <td>0.007396</td>\n",
       "      <td>1</td>\n",
       "    </tr>\n",
       "    <tr>\n",
       "      <th>193846</th>\n",
       "      <td>0.011208</td>\n",
       "      <td>0.209975</td>\n",
       "      <td>1</td>\n",
       "    </tr>\n",
       "    <tr>\n",
       "      <th>193847</th>\n",
       "      <td>0.112405</td>\n",
       "      <td>0.265447</td>\n",
       "      <td>1</td>\n",
       "    </tr>\n",
       "  </tbody>\n",
       "</table>\n",
       "<p>193848 rows × 3 columns</p>\n",
       "</div>"
      ]
     },
     "execution_count": 55,
     "metadata": {},
     "output_type": "execute_result"
    }
   ],
   "execution_count": 55
  },
  {
   "cell_type": "code",
   "metadata": {
    "ExecuteTime": {
     "end_time": "2024-09-20T11:56:40.064228Z",
     "start_time": "2024-09-20T11:56:40.047970Z"
    }
   },
   "source": [
    "from sklearn.preprocessing import MinMaxScaler\n",
    "scaler = MinMaxScaler()\n",
    "train = pd.DataFrame(scaler.fit_transform(train))\n",
    "# Random shuffle training data\n",
    "train.sample(frac=1)\n",
    "\n",
    "test = pd.DataFrame(scaler.transform(test))"
   ],
   "outputs": [
    {
     "name": "stderr",
     "output_type": "stream",
     "text": [
      "W:\\dev\\anaconda3\\Lib\\site-packages\\sklearn\\base.py:464: UserWarning: X does not have valid feature names, but MinMaxScaler was fitted with feature names\n",
      "  warnings.warn(\n"
     ]
    }
   ],
   "execution_count": 56
  },
  {
   "cell_type": "code",
   "metadata": {
    "ExecuteTime": {
     "end_time": "2024-09-20T11:56:40.158395Z",
     "start_time": "2024-09-20T11:56:40.143321Z"
    }
   },
   "source": [
    "from sklearn.decomposition import PCA\n",
    "pca = PCA(n_components=2, svd_solver= 'full')\n",
    "\n",
    "train_PCA = pca.fit_transform(train)\n",
    "train_PCA = pd.DataFrame(train_PCA)\n",
    "train_PCA.index = train.index\n",
    "\n",
    "test_PCA = pca.transform(test)\n",
    "test_PCA = pd.DataFrame(test_PCA)\n",
    "test_PCA.index = test.index"
   ],
   "outputs": [],
   "execution_count": 57
  },
  {
   "cell_type": "code",
   "metadata": {
    "ExecuteTime": {
     "end_time": "2024-09-20T11:56:40.196795Z",
     "start_time": "2024-09-20T11:56:40.193400Z"
    }
   },
   "source": [
    "def cov_matrix(data, verbose=False):\n",
    "    covariance_matrix = np.cov(data, rowvar=False)\n",
    "    if is_pos_def(covariance_matrix):\n",
    "        inv_covariance_matrix = np.linalg.inv(covariance_matrix)\n",
    "        if is_pos_def(inv_covariance_matrix):\n",
    "            return covariance_matrix, inv_covariance_matrix\n",
    "        else:\n",
    "            print(\"Error: Inverse of Covariance Matrix is not positive definite!\")\n",
    "    else:\n",
    "        print(\"Error: Covariance Matrix is not positive definite!\")"
   ],
   "outputs": [],
   "execution_count": 58
  },
  {
   "cell_type": "code",
   "metadata": {
    "ExecuteTime": {
     "end_time": "2024-09-20T11:56:40.224291Z",
     "start_time": "2024-09-20T11:56:40.221714Z"
    }
   },
   "source": [
    "def MahalanobisDist(inv_cov_matrix, mean_distr, data, verbose=False):\n",
    "    inv_covariance_matrix = inv_cov_matrix\n",
    "    vars_mean = mean_distr\n",
    "    diff = data - vars_mean\n",
    "    md = []\n",
    "    for i in range(len(diff)):\n",
    "        md.append(np.sqrt(diff[i].dot(inv_covariance_matrix).dot(diff[i])))\n",
    "    return md"
   ],
   "outputs": [],
   "execution_count": 59
  },
  {
   "cell_type": "code",
   "metadata": {
    "ExecuteTime": {
     "end_time": "2024-09-20T11:56:40.251206Z",
     "start_time": "2024-09-20T11:56:40.248100Z"
    }
   },
   "source": [
    "def MD_detectOutliers(dist, extreme=False, verbose=False):\n",
    "    k = 3. if extreme else 2.\n",
    "    threshold = np.mean(dist) * k\n",
    "    outliers = []\n",
    "    for i in range(len(dist)):\n",
    "        if dist[i] >= threshold:\n",
    "            outliers.append(i)  # index of the outlier\n",
    "    return np.array(outliers)"
   ],
   "outputs": [],
   "execution_count": 60
  },
  {
   "cell_type": "code",
   "metadata": {
    "ExecuteTime": {
     "end_time": "2024-09-20T11:56:40.277469Z",
     "start_time": "2024-09-20T11:56:40.275396Z"
    }
   },
   "source": [
    "def MD_threshold(dist, extreme=False, verbose=False):\n",
    "    k = 3. if extreme else 2.\n",
    "    threshold = np.mean(dist) * k\n",
    "    return threshold"
   ],
   "outputs": [],
   "execution_count": 61
  },
  {
   "cell_type": "code",
   "metadata": {
    "ExecuteTime": {
     "end_time": "2024-09-20T11:56:40.306850Z",
     "start_time": "2024-09-20T11:56:40.303340Z"
    }
   },
   "source": [
    "def is_pos_def(A):\n",
    "    if np.allclose(A, A.T):\n",
    "        try:\n",
    "            np.linalg.cholesky(A)\n",
    "            return True\n",
    "        except np.linalg.LinAlgError:\n",
    "            return False\n",
    "    else:\n",
    "        return False"
   ],
   "outputs": [],
   "execution_count": 62
  },
  {
   "cell_type": "code",
   "metadata": {
    "ExecuteTime": {
     "end_time": "2024-09-20T11:56:40.335845Z",
     "start_time": "2024-09-20T11:56:40.333086Z"
    }
   },
   "source": [
    "data_train = np.array(train_PCA.values)\n",
    "data_test = np.array(test_PCA.values)"
   ],
   "outputs": [],
   "execution_count": 63
  },
  {
   "cell_type": "code",
   "metadata": {
    "ExecuteTime": {
     "end_time": "2024-09-20T11:56:40.361125Z",
     "start_time": "2024-09-20T11:56:40.356496Z"
    }
   },
   "source": [
    "cov_matrix, inv_cov_matrix  = cov_matrix(data_train)"
   ],
   "outputs": [],
   "execution_count": 64
  },
  {
   "cell_type": "code",
   "metadata": {
    "ExecuteTime": {
     "end_time": "2024-09-20T11:56:40.385060Z",
     "start_time": "2024-09-20T11:56:40.382051Z"
    }
   },
   "source": [
    "mean_distr = data_train.mean(axis=0)"
   ],
   "outputs": [],
   "execution_count": 65
  },
  {
   "cell_type": "code",
   "metadata": {
    "ExecuteTime": {
     "end_time": "2024-09-20T11:56:40.731518Z",
     "start_time": "2024-09-20T11:56:40.405187Z"
    }
   },
   "source": [
    "dist_test = MahalanobisDist(inv_cov_matrix, mean_distr, data_test, verbose=False)\n",
    "dist_train = MahalanobisDist(inv_cov_matrix, mean_distr, data_train, verbose=False)\n",
    "threshold = MD_threshold(dist_train, extreme = True)"
   ],
   "outputs": [],
   "execution_count": 66
  },
  {
   "cell_type": "code",
   "metadata": {
    "ExecuteTime": {
     "end_time": "2024-09-20T11:56:40.895087Z",
     "start_time": "2024-09-20T11:56:40.755542Z"
    }
   },
   "source": [
    "import matplotlib.pyplot as plt\n",
    "import seaborn as sns\n",
    "\n",
    "plt.figure()\n",
    "sns.distplot(np.square(dist_train),\n",
    "             bins = 50, \n",
    "             kde= False);\n",
    "plt.xlim([0.0,15])"
   ],
   "outputs": [
    {
     "name": "stderr",
     "output_type": "stream",
     "text": [
      "C:\\Users\\inkyd\\AppData\\Local\\Temp\\ipykernel_39776\\2334384244.py:5: UserWarning: \n",
      "\n",
      "`distplot` is a deprecated function and will be removed in seaborn v0.14.0.\n",
      "\n",
      "Please adapt your code to use either `displot` (a figure-level function with\n",
      "similar flexibility) or `histplot` (an axes-level function for histograms).\n",
      "\n",
      "For a guide to updating your code to use the new functions, please see\n",
      "https://gist.github.com/mwaskom/de44147ed2974457ad6372750bbe5751\n",
      "\n",
      "  sns.distplot(np.square(dist_train),\n"
     ]
    },
    {
     "data": {
      "text/plain": [
       "(0.0, 15.0)"
      ]
     },
     "execution_count": 67,
     "metadata": {},
     "output_type": "execute_result"
    },
    {
     "data": {
      "text/plain": [
       "<Figure size 640x480 with 1 Axes>"
      ],
      "image/png": "[encoded data removed]"
     },
     "metadata": {},
     "output_type": "display_data"
    }
   ],
   "execution_count": 67
  },
  {
   "cell_type": "code",
   "metadata": {
    "ExecuteTime": {
     "end_time": "2024-09-20T11:56:41.725892Z",
     "start_time": "2024-09-20T11:56:40.918615Z"
    }
   },
   "source": [
    "plt.figure()\n",
    "sns.distplot(dist_train,\n",
    "             bins = 10, \n",
    "             kde= True, \n",
    "            color = 'green');\n",
    "plt.xlim([0.0,5])\n",
    "plt.xlabel('Mahalanobis dist')"
   ],
   "outputs": [
    {
     "name": "stderr",
     "output_type": "stream",
     "text": [
      "C:\\Users\\inkyd\\AppData\\Local\\Temp\\ipykernel_39776\\377184411.py:2: UserWarning: \n",
      "\n",
      "`distplot` is a deprecated function and will be removed in seaborn v0.14.0.\n",
      "\n",
      "Please adapt your code to use either `displot` (a figure-level function with\n",
      "similar flexibility) or `histplot` (an axes-level function for histograms).\n",
      "\n",
      "For a guide to updating your code to use the new functions, please see\n",
      "https://gist.github.com/mwaskom/de44147ed2974457ad6372750bbe5751\n",
      "\n",
      "  sns.distplot(dist_train,\n"
     ]
    },
    {
     "data": {
      "text/plain": [
       "Text(0.5, 0, 'Mahalanobis dist')"
      ]
     },
     "execution_count": 68,
     "metadata": {},
     "output_type": "execute_result"
    },
    {
     "data": {
      "text/plain": [
       "<Figure size 640x480 with 1 Axes>"
      ],
      "image/png": "[encoded data removed]"
     },
     "metadata": {},
     "output_type": "display_data"
    }
   ],
   "execution_count": 68
  },
  {
   "cell_type": "code",
   "metadata": {
    "ExecuteTime": {
     "end_time": "2024-09-20T11:56:41.787368Z",
     "start_time": "2024-09-20T11:56:41.749190Z"
    }
   },
   "source": [
    "anomaly_train = pd.DataFrame()\n",
    "anomaly_train['Mob_dist']= dist_train\n",
    "anomaly_train['Thresh'] = threshold\n",
    "# If Mob dist above threshold: Flag as anomaly\n",
    "anomaly_train['Anomaly'] = anomaly_train['Mob_dist'] > anomaly_train['Thresh']\n",
    "anomaly_train.index = train_PCA.index"
   ],
   "outputs": [],
   "execution_count": 69
  },
  {
   "cell_type": "code",
   "metadata": {
    "ExecuteTime": {
     "end_time": "2024-09-20T11:56:41.815038Z",
     "start_time": "2024-09-20T11:56:41.809421Z"
    }
   },
   "source": [
    "anomalies = anomaly_train[anomaly_train['Anomaly'] == True]\n",
    "print(anomalies)\n",
    "print(anomalies.shape)"
   ],
   "outputs": [
    {
     "name": "stdout",
     "output_type": "stream",
     "text": [
      "        Mob_dist    Thresh  Anomaly\n",
      "96957   5.215875  3.944094     True\n",
      "97034   3.991707  3.944094     True\n",
      "97047   4.279628  3.944094     True\n",
      "97141   3.964335  3.944094     True\n",
      "97193   4.381062  3.944094     True\n",
      "...          ...       ...      ...\n",
      "192982  4.845895  3.944094     True\n",
      "193077  5.327633  3.944094     True\n",
      "193311  4.164236  3.944094     True\n",
      "193550  3.957741  3.944094     True\n",
      "193674  3.944423  3.944094     True\n",
      "\n",
      "[831 rows x 3 columns]\n",
      "(831, 3)\n"
     ]
    }
   ],
   "execution_count": 70
  },
  {
   "cell_type": "code",
   "metadata": {
    "ExecuteTime": {
     "end_time": "2024-09-20T11:56:43.104813Z",
     "start_time": "2024-09-20T11:56:41.860489Z"
    }
   },
   "source": [
    "f, (ax1) = plt.subplots(figsize=(16, 4))\n",
    "ax1.plot(anomaly_train.index, anomaly_train.Mob_dist, label='Mob dist');\n",
    "ax1.plot(anomaly_train.index, anomaly_train.Thresh, label='Threshold')\n",
    "g = sns.scatterplot(x=anomalies.index , y=anomalies.Mob_dist, label='anomaly', color='red')\n",
    "g.set(xlim = (0, len(anomaly_train.index)))\n",
    "plt.title('Anomalies')\n",
    "plt.xlabel('Data points')\n",
    "plt.legend();"
   ],
   "outputs": [
    {
     "data": {
      "text/plain": [
       "<Figure size 1600x400 with 1 Axes>"
      ],
      "image/png": "[encoded data removed]"
     },
     "metadata": {},
     "output_type": "display_data"
    }
   ],
   "execution_count": 71
  },
  {
   "cell_type": "code",
   "metadata": {
    "ExecuteTime": {
     "end_time": "2024-09-20T11:56:43.125494Z",
     "start_time": "2024-09-20T11:56:43.110817Z"
    }
   },
   "source": [
    "anomaly_test = pd.DataFrame()\n",
    "anomaly_test['Mob_dist']= dist_test\n",
    "anomaly_test['Thresh'] = threshold\n",
    "# If Mob dist above threshold: Flag as anomaly\n",
    "anomaly_test['Anomaly'] = anomaly_test['Mob_dist'] > anomaly_test['Thresh']\n",
    "anomaly_test.index = test_PCA.index\n",
    "anomaly_test.head()"
   ],
   "outputs": [
    {
     "data": {
      "text/plain": [
       "   Mob_dist    Thresh  Anomaly\n",
       "0  3.195945  3.944094    False\n",
       "1  3.205233  3.944094    False\n",
       "2  3.377189  3.944094    False\n",
       "3  3.203383  3.944094    False\n",
       "4  3.131419  3.944094    False"
      ],
      "text/html": [
       "<div>\n",
       "<style scoped>\n",
       "    .dataframe tbody tr th:only-of-type {\n",
       "        vertical-align: middle;\n",
       "    }\n",
       "\n",
       "    .dataframe tbody tr th {\n",
       "        vertical-align: top;\n",
       "    }\n",
       "\n",
       "    .dataframe thead th {\n",
       "        text-align: right;\n",
       "    }\n",
       "</style>\n",
       "<table border=\"1\" class=\"dataframe\">\n",
       "  <thead>\n",
       "    <tr style=\"text-align: right;\">\n",
       "      <th></th>\n",
       "      <th>Mob_dist</th>\n",
       "      <th>Thresh</th>\n",
       "      <th>Anomaly</th>\n",
       "    </tr>\n",
       "  </thead>\n",
       "  <tbody>\n",
       "    <tr>\n",
       "      <th>0</th>\n",
       "      <td>3.195945</td>\n",
       "      <td>3.944094</td>\n",
       "      <td>False</td>\n",
       "    </tr>\n",
       "    <tr>\n",
       "      <th>1</th>\n",
       "      <td>3.205233</td>\n",
       "      <td>3.944094</td>\n",
       "      <td>False</td>\n",
       "    </tr>\n",
       "    <tr>\n",
       "      <th>2</th>\n",
       "      <td>3.377189</td>\n",
       "      <td>3.944094</td>\n",
       "      <td>False</td>\n",
       "    </tr>\n",
       "    <tr>\n",
       "      <th>3</th>\n",
       "      <td>3.203383</td>\n",
       "      <td>3.944094</td>\n",
       "      <td>False</td>\n",
       "    </tr>\n",
       "    <tr>\n",
       "      <th>4</th>\n",
       "      <td>3.131419</td>\n",
       "      <td>3.944094</td>\n",
       "      <td>False</td>\n",
       "    </tr>\n",
       "  </tbody>\n",
       "</table>\n",
       "</div>"
      ]
     },
     "execution_count": 72,
     "metadata": {},
     "output_type": "execute_result"
    }
   ],
   "execution_count": 72
  },
  {
   "cell_type": "code",
   "metadata": {
    "ExecuteTime": {
     "end_time": "2024-09-20T11:56:43.171076Z",
     "start_time": "2024-09-20T11:56:43.166143Z"
    }
   },
   "source": [
    "IR_anomalies = anomaly_test[anomaly_test['Anomaly'] == True]\n",
    "print(IR_anomalies)\n",
    "print(IR_anomalies.shape)"
   ],
   "outputs": [
    {
     "name": "stdout",
     "output_type": "stream",
     "text": [
      "       Mob_dist    Thresh  Anomaly\n",
      "24232  4.015588  3.944094     True\n",
      "24236  4.070257  3.944094     True\n",
      "24238  3.977241  3.944094     True\n",
      "24240  4.451963  3.944094     True\n",
      "24264  4.867121  3.944094     True\n",
      "...         ...       ...      ...\n",
      "48420  4.071427  3.944094     True\n",
      "48423  4.317577  3.944094     True\n",
      "48430  4.162159  3.944094     True\n",
      "48431  4.160624  3.944094     True\n",
      "48447  4.126034  3.944094     True\n",
      "\n",
      "[2852 rows x 3 columns]\n",
      "(2852, 3)\n"
     ]
    }
   ],
   "execution_count": 73
  },
  {
   "cell_type": "code",
   "metadata": {
    "ExecuteTime": {
     "end_time": "2024-09-20T11:56:43.256904Z",
     "start_time": "2024-09-20T11:56:43.253142Z"
    }
   },
   "source": [
    "print(\"Anomalies: {}\".format(IR_anomalies['Anomaly'].count()))"
   ],
   "outputs": [
    {
     "name": "stdout",
     "output_type": "stream",
     "text": [
      "Anomalies: 2852\n"
     ]
    }
   ],
   "execution_count": 74
  },
  {
   "cell_type": "code",
   "metadata": {
    "ExecuteTime": {
     "end_time": "2024-09-20T11:56:43.381571Z",
     "start_time": "2024-09-20T11:56:43.379223Z"
    }
   },
   "source": [],
   "outputs": [],
   "execution_count": null
  }
 ],
 "metadata": {
  "kernelspec": {
   "display_name": "Python 3",
   "language": "python",
   "name": "python3"
  },
  "language_info": {
   "codemirror_mode": {
    "name": "ipython",
    "version": 3
   },
   "file_extension": ".py",
   "mimetype": "text/x-python",
   "name": "python",
   "nbconvert_exporter": "python",
   "pygments_lexer": "ipython3",
   "version": "3.7.4"
  }
 },
 "nbformat": 4,
 "nbformat_minor": 4
}
